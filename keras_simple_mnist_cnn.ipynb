{
 "cells": [
  {
   "cell_type": "code",
   "execution_count": 42,
   "metadata": {},
   "outputs": [
    {
     "name": "stdout",
     "output_type": "stream",
     "text": [
      "data_train-size= (60000, 28, 28)\n",
      "data_test-size= (10000, 28, 28)\n",
      "train_images-size= (60000, 28, 28, 1)\n",
      "test_images-size= (10000, 28, 28, 1)\n"
     ]
    }
   ],
   "source": [
    "# create a CNN model using 3 conv nets. Use of 32/64/64 filters\n",
    "# This was work is derived from Deep_Learning with Python by Francios Chollet. \n",
    "\n",
    "import keras\n",
    "from keras import layers\n",
    "from keras import models\n",
    "\n",
    "from keras.datasets import mnist\n",
    "from keras.utils import to_categorical\n",
    "\n",
    "# load mnist data \n",
    "(data_train, labels_train), (data_test, labels_test) = mnist.load_data()\n",
    "print(\"data_train-size=\", data_train.shape)\n",
    "print(\"data_test-size=\", data_test.shape)\n",
    "train_images = data_train.reshape((60000, 28, 28, 1))\n",
    "test_images = data_test.reshape((10000, 28, 28, 1))\n",
    "print(\"train_images-size=\", train_images.shape)\n",
    "print(\"test_images-size=\", test_images.shape)\n",
    "train_images = train_images.astype('float32')/255\n",
    "test_images = test_images.astype('float32')/255\n",
    "\n",
    "train_image_labels =  to_categorical(labels_train)\n",
    "#print (train_image_labels)\n",
    "test_image_labels =  to_categorical(labels_test)"
   ]
  },
  {
   "cell_type": "code",
   "execution_count": 43,
   "metadata": {},
   "outputs": [],
   "source": [
    "# create a CNN model\n",
    "\n",
    "model = models.Sequential()\n",
    "model.add(layers.Conv2D(32,(3,3),activation= 'relu',input_shape= (28,28,1)))\n",
    "model.add(layers.MaxPooling2D((2,2)))\n",
    "model.add(layers.Conv2D(64,(3,3),activation ='relu'))\n",
    "model.add(layers.MaxPooling2D((2,2)))\n",
    "model.add(layers.Conv2D(64,(3,3),activation ='relu'))\n",
    "model.add(layers.Flatten())\n",
    "model.add(layers.Dense(12, activation = 'relu'))\n",
    "model.add(layers.Dense(10, activation = 'softmax'))"
   ]
  },
  {
   "cell_type": "code",
   "execution_count": 44,
   "metadata": {
    "scrolled": true
   },
   "outputs": [
    {
     "name": "stdout",
     "output_type": "stream",
     "text": [
      "_________________________________________________________________\n",
      "Layer (type)                 Output Shape              Param #   \n",
      "=================================================================\n",
      "conv2d_18 (Conv2D)           (None, 26, 26, 32)        320       \n",
      "_________________________________________________________________\n",
      "max_pooling2d_12 (MaxPooling (None, 13, 13, 32)        0         \n",
      "_________________________________________________________________\n",
      "conv2d_19 (Conv2D)           (None, 11, 11, 64)        18496     \n",
      "_________________________________________________________________\n",
      "max_pooling2d_13 (MaxPooling (None, 5, 5, 64)          0         \n",
      "_________________________________________________________________\n",
      "conv2d_20 (Conv2D)           (None, 3, 3, 64)          36928     \n",
      "_________________________________________________________________\n",
      "flatten_5 (Flatten)          (None, 576)               0         \n",
      "_________________________________________________________________\n",
      "dense_9 (Dense)              (None, 12)                6924      \n",
      "_________________________________________________________________\n",
      "dense_10 (Dense)             (None, 10)                130       \n",
      "=================================================================\n",
      "Total params: 62,798\n",
      "Trainable params: 62,798\n",
      "Non-trainable params: 0\n",
      "_________________________________________________________________\n"
     ]
    }
   ],
   "source": [
    "model.summary()"
   ]
  },
  {
   "cell_type": "code",
   "execution_count": 45,
   "metadata": {},
   "outputs": [],
   "source": [
    "# compile a model\n",
    "\n",
    "model.compile(optimizer='rmsprop', loss='categorical_crossentropy',metrics=['accuracy'])"
   ]
  },
  {
   "cell_type": "code",
   "execution_count": 46,
   "metadata": {},
   "outputs": [
    {
     "name": "stdout",
     "output_type": "stream",
     "text": [
      "Epoch 1/5\n",
      "60000/60000 [==============================] - 30s 496us/step - loss: 0.2878 - acc: 0.9095\n",
      "Epoch 2/5\n",
      "60000/60000 [==============================] - 26s 436us/step - loss: 0.0672 - acc: 0.9798\n",
      "Epoch 3/5\n",
      "60000/60000 [==============================] - 26s 437us/step - loss: 0.0443 - acc: 0.9861\n",
      "Epoch 4/5\n",
      "60000/60000 [==============================] - 26s 435us/step - loss: 0.0330 - acc: 0.9903\n",
      "Epoch 5/5\n",
      "60000/60000 [==============================] - 26s 433us/step - loss: 0.0264 - acc: 0.9919\n"
     ]
    },
    {
     "data": {
      "text/plain": [
       "<keras.callbacks.History at 0x1c0b4390>"
      ]
     },
     "execution_count": 46,
     "metadata": {},
     "output_type": "execute_result"
    }
   ],
   "source": [
    "# run the model\n",
    "\n",
    "model.fit(train_images, train_image_labels, epochs=5, batch_size=64)"
   ]
  },
  {
   "cell_type": "code",
   "execution_count": 47,
   "metadata": {},
   "outputs": [
    {
     "name": "stdout",
     "output_type": "stream",
     "text": [
      "10000/10000 [==============================] - 1s 134us/step\n"
     ]
    }
   ],
   "source": [
    "# Evaluate the model with test images\n",
    "\n",
    "test_loss, test_acc = model.evaluate(test_images, test_image_labels)"
   ]
  },
  {
   "cell_type": "code",
   "execution_count": 48,
   "metadata": {},
   "outputs": [
    {
     "name": "stdout",
     "output_type": "stream",
     "text": [
      "test_loss= 0.02820212893790449 , test_acc= 0.9906\n"
     ]
    }
   ],
   "source": [
    "print (\"test_loss=\", test_loss, \", test_acc=\", test_acc)"
   ]
  },
  {
   "cell_type": "code",
   "execution_count": null,
   "metadata": {},
   "outputs": [],
   "source": []
  }
 ],
 "metadata": {
  "kernelspec": {
   "display_name": "Python 3",
   "language": "python",
   "name": "python3"
  },
  "language_info": {
   "codemirror_mode": {
    "name": "ipython",
    "version": 3
   },
   "file_extension": ".py",
   "mimetype": "text/x-python",
   "name": "python",
   "nbconvert_exporter": "python",
   "pygments_lexer": "ipython3",
   "version": "3.5.2"
  }
 },
 "nbformat": 4,
 "nbformat_minor": 2
}
