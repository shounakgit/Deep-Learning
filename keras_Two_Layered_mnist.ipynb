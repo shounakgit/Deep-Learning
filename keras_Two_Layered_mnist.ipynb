{
 "cells": [
  {
   "cell_type": "code",
   "execution_count": 1,
   "metadata": {},
   "outputs": [
    {
     "name": "stderr",
     "output_type": "stream",
     "text": [
      "Using TensorFlow backend.\n"
     ]
    },
    {
     "name": "stdout",
     "output_type": "stream",
     "text": [
      "data_train-size= (60000, 28, 28)\n",
      "data_test-size= (10000, 28, 28)\n",
      "train_images-size= (60000, 784)\n",
      "test_images-size= (10000, 784)\n",
      "train_images_labels= (60000, 10)\n",
      "test_images_labels= (10000, 10)\n"
     ]
    }
   ],
   "source": [
    "# A study on 2-layered network for MNIST dataset. The idea is to explore \n",
    "# the effect of the number of hidden neurons on performance.\n",
    "\n",
    "import keras\n",
    "from keras import layers\n",
    "from keras import models\n",
    "import numpy as np\n",
    "import time\n",
    "from matplotlib import pyplot as plt\n",
    "\n",
    "from keras.datasets import mnist\n",
    "from keras.utils import to_categorical\n",
    "\n",
    "# load mnist data \n",
    "(data_train, labels_train), (data_test, labels_test) = mnist.load_data()\n",
    "print(\"data_train-size=\", data_train.shape)\n",
    "print(\"data_test-size=\", data_test.shape)\n",
    "\n",
    "train_images = np.reshape(data_train, (60000,28*28))\n",
    "test_images = np.reshape(data_test, (10000,28*28))\n",
    "train_images = train_images.astype('float32')/255\n",
    "test_images = test_images.astype('float32')/255\n",
    "\n",
    "print(\"train_images-size=\", train_images.shape)\n",
    "print(\"test_images-size=\", test_images.shape)\n",
    "\n",
    "train_image_labels =  to_categorical(labels_train)\n",
    "test_image_labels =  to_categorical(labels_test)\n",
    "\n",
    "print(\"train_images_labels=\", train_image_labels.shape)\n",
    "print(\"test_images_labels=\", test_image_labels.shape)"
   ]
  },
  {
   "cell_type": "code",
   "execution_count": 2,
   "metadata": {},
   "outputs": [
    {
     "name": "stdout",
     "output_type": "stream",
     "text": [
      "Epoch 1/5\n",
      "60000/60000 [==============================] - 1s 24us/step - loss: 0.4366 - acc: 0.8758\n",
      "Epoch 2/5\n",
      "60000/60000 [==============================] - 1s 22us/step - loss: 0.2315 - acc: 0.9335\n",
      "Epoch 3/5\n",
      "60000/60000 [==============================] - 1s 22us/step - loss: 0.1998 - acc: 0.9428\n",
      "Epoch 4/5\n",
      "60000/60000 [==============================] - 1s 22us/step - loss: 0.1826 - acc: 0.9482\n",
      "Epoch 5/5\n",
      "60000/60000 [==============================] - 1s 22us/step - loss: 0.1725 - acc: 0.9503\n",
      "10000/10000 [==============================] - 0s 11us/step\n",
      "units= 16 , test_loss= 0.18653055982105435 , test_acc= 0.9477 , average-time= 1.4039999961853027\n",
      "Epoch 1/5\n",
      "60000/60000 [==============================] - 2s 26us/step - loss: 0.3310 - acc: 0.9041\n",
      "Epoch 2/5\n",
      "60000/60000 [==============================] - 1s 24us/step - loss: 0.1753 - acc: 0.9489\n",
      "Epoch 3/5\n",
      "60000/60000 [==============================] - 1s 24us/step - loss: 0.1414 - acc: 0.9582\n",
      "Epoch 4/5\n",
      "60000/60000 [==============================] - 1s 25us/step - loss: 0.1229 - acc: 0.9635\n",
      "Epoch 5/5\n",
      "60000/60000 [==============================] - 2s 25us/step - loss: 0.1088 - acc: 0.9686\n",
      "10000/10000 [==============================] - 0s 14us/step\n",
      "units= 32 , test_loss= 0.1325119421016425 , test_acc= 0.9618 , average-time= 1.5662400245666503\n",
      "Epoch 1/5\n",
      "60000/60000 [==============================] - 2s 35us/step - loss: 0.2797 - acc: 0.9194\n",
      "Epoch 2/5\n",
      "60000/60000 [==============================] - 2s 33us/step - loss: 0.1379 - acc: 0.9599\n",
      "Epoch 3/5\n",
      "60000/60000 [==============================] - 2s 34us/step - loss: 0.1042 - acc: 0.9689: 0s - loss: 0.1044 - acc: 0.968\n",
      "Epoch 4/5\n",
      "60000/60000 [==============================] - 2s 34us/step - loss: 0.0863 - acc: 0.9741\n",
      "Epoch 5/5\n",
      "60000/60000 [==============================] - 2s 35us/step - loss: 0.0752 - acc: 0.9784\n",
      "10000/10000 [==============================] - 0s 19us/step\n",
      "units= 64 , test_loss= 0.10628107490194962 , test_acc= 0.9704 , average-time= 2.127839994430542\n",
      "Epoch 1/5\n",
      "60000/60000 [==============================] - 3s 49us/step - loss: 0.2264 - acc: 0.9341\n",
      "Epoch 2/5\n",
      "60000/60000 [==============================] - 3s 46us/step - loss: 0.1028 - acc: 0.9699\n",
      "Epoch 3/5\n",
      "60000/60000 [==============================] - 3s 45us/step - loss: 0.0786 - acc: 0.9776\n",
      "Epoch 4/5\n",
      "60000/60000 [==============================] - 3s 45us/step - loss: 0.0636 - acc: 0.9819\n",
      "Epoch 5/5\n",
      "60000/60000 [==============================] - 3s 45us/step - loss: 0.0551 - acc: 0.9848\n",
      "10000/10000 [==============================] - 0s 22us/step\n",
      "units= 128 , test_loss= 0.1031533045516022 , test_acc= 0.9752 , average-time= 2.8454400539398192\n",
      "Epoch 1/5\n",
      "60000/60000 [==============================] - 4s 70us/step - loss: 0.2006 - acc: 0.9396\n",
      "Epoch 2/5\n",
      "60000/60000 [==============================] - 4s 66us/step - loss: 0.0942 - acc: 0.9732\n",
      "Epoch 3/5\n",
      "60000/60000 [==============================] - 4s 67us/step - loss: 0.0721 - acc: 0.9800\n",
      "Epoch 4/5\n",
      "60000/60000 [==============================] - 4s 66us/step - loss: 0.0596 - acc: 0.9848\n",
      "Epoch 5/5\n",
      "60000/60000 [==============================] - 4s 66us/step - loss: 0.0540 - acc: 0.9869\n",
      "10000/10000 [==============================] - 0s 28us/step\n",
      "units= 256 , test_loss= 0.12265494499395772 , test_acc= 0.9758 , average-time= 4.121519994735718\n",
      "Epoch 1/5\n",
      "60000/60000 [==============================] - 19s 315us/step - loss: 0.1915 - acc: 0.9428\n",
      "Epoch 2/5\n",
      "60000/60000 [==============================] - 16s 271us/step - loss: 0.0997 - acc: 0.9745\n",
      "Epoch 3/5\n",
      "60000/60000 [==============================] - 16s 269us/step - loss: 0.0856 - acc: 0.9802\n",
      "Epoch 4/5\n",
      "60000/60000 [==============================] - 16s 269us/step - loss: 0.0743 - acc: 0.9839\n",
      "Epoch 5/5\n",
      "60000/60000 [==============================] - 16s 270us/step - loss: 0.0683 - acc: 0.9858\n",
      "10000/10000 [==============================] - 1s 53us/step\n",
      "units= 512 , test_loss= 0.13766943859792172 , test_acc= 0.977 , average-time= 16.869840145111084\n",
      "Epoch 1/5\n",
      "60000/60000 [==============================] - 42s 701us/step - loss: 0.2028 - acc: 0.9434\n",
      "Epoch 2/5\n",
      "60000/60000 [==============================] - 42s 700us/step - loss: 0.1260 - acc: 0.9713\n",
      "Epoch 3/5\n",
      "60000/60000 [==============================] - 42s 693us/step - loss: 0.1078 - acc: 0.9778\n",
      "Epoch 4/5\n",
      "60000/60000 [==============================] - 41s 688us/step - loss: 0.1009 - acc: 0.9808\n",
      "Epoch 5/5\n",
      "60000/60000 [==============================] - 44s 730us/step - loss: 0.0921 - acc: 0.9838\n",
      "10000/10000 [==============================] - 1s 105us/step\n",
      "units= 1024 , test_loss= 0.12950723382880142 , test_acc= 0.9777 , average-time= 42.4008002281189\n",
      "Epoch 1/5\n",
      "60000/60000 [==============================] - 135s 2ms/step - loss: 0.2314 - acc: 0.9389\n",
      "Epoch 2/5\n",
      "60000/60000 [==============================] - 132s 2ms/step - loss: 0.1489 - acc: 0.9689\n",
      "Epoch 3/5\n",
      "60000/60000 [==============================] - 132s 2ms/step - loss: 0.1298 - acc: 0.9755\n",
      "Epoch 4/5\n",
      "60000/60000 [==============================] - 139s 2ms/step - loss: 0.1231 - acc: 0.9796\n",
      "Epoch 5/5\n",
      "60000/60000 [==============================] - 132s 2ms/step - loss: 0.1102 - acc: 0.9819\n",
      "10000/10000 [==============================] - 2s 236us/step\n",
      "units= 2048 , test_loss= 0.1490738655309161 , test_acc= 0.977 , average-time= 134.60796051025392\n",
      "Epoch 1/5\n",
      "60000/60000 [==============================] - 455s 8ms/step - loss: 0.2711 - acc: 0.9333\n",
      "Epoch 2/5\n",
      "60000/60000 [==============================] - 443s 7ms/step - loss: 0.1718 - acc: 0.9654\n",
      "Epoch 3/5\n",
      "60000/60000 [==============================] - 444s 7ms/step - loss: 0.1576 - acc: 0.9727\n",
      "Epoch 4/5\n",
      "60000/60000 [==============================] - 445s 7ms/step - loss: 0.1367 - acc: 0.9780\n",
      "Epoch 5/5\n",
      "60000/60000 [==============================] - 436s 7ms/step - loss: 0.1349 - acc: 0.9813\n",
      "10000/10000 [==============================] - 7s 660us/step\n",
      "units= 4096 , test_loss= 0.22184747461848314 , test_acc= 0.9721 , average-time= 446.0678026676178\n"
     ]
    }
   ],
   "source": [
    "hidden_units_list = [16, 32, 64, 128, 256, 512, 1024, 2048, 4096]\n",
    "execution_time = []\n",
    "accuracies = []\n",
    "losses = []\n",
    "EPOCHS = 5\n",
    "\n",
    "for units in hidden_units_list:\n",
    "    start_time = time.time()\n",
    "    model = models.Sequential()\n",
    "    model.add(layers.Dense(units, activation = 'relu', input_shape=(784,) ))\n",
    "    model.add(layers.Dense(units, activation = 'relu' ))\n",
    "    model.add(layers.Dense(10, activation = 'softmax'))\n",
    "    model.compile(optimizer='rmsprop', loss='categorical_crossentropy',metrics=['accuracy'])\n",
    "    model.fit(train_images, train_image_labels, epochs=EPOCHS)\n",
    "    test_loss, test_acc = model.evaluate(test_images, test_image_labels)\n",
    "    stop_time = time.time()\n",
    "    average_execution_time = (stop_time - start_time)/EPOCHS\n",
    "    execution_time.append(average_execution_time)\n",
    "    accuracies.append(test_acc)\n",
    "    losses.append(test_loss)\n",
    "    print (\"units=\", units, \", test_loss=\", test_loss, \", test_acc=\", test_acc, \", average-time=\", average_execution_time )        "
   ]
  },
  {
   "cell_type": "code",
   "execution_count": 3,
   "metadata": {},
   "outputs": [
    {
     "data": {
      "image/png": "[encoded data removed]",
      "text/plain": [
       "<Figure size 432x288 with 1 Axes>"
      ]
     },
     "metadata": {},
     "output_type": "display_data"
    },
    {
     "data": {
      "image/png": "[encoded data removed]",
      "text/plain": [
       "<Figure size 432x288 with 1 Axes>"
      ]
     },
     "metadata": {},
     "output_type": "display_data"
    },
    {
     "data": {
      "image/png": "[encoded data removed]",
      "text/plain": [
       "<Figure size 432x288 with 1 Axes>"
      ]
     },
     "metadata": {},
     "output_type": "display_data"
    }
   ],
   "source": [
    "plt.plot(hidden_units_list, accuracies, 'b')\n",
    "plt.xlabel(\"units\")\n",
    "plt.ylabel(\"test_acc\")\n",
    "plt.show()\n",
    "\n",
    "plt.plot(hidden_units_list, losses, 'g')\n",
    "plt.xlabel(\"units\")\n",
    "plt.ylabel(\"loss\")\n",
    "plt.show()\n",
    "\n",
    "plt.plot(hidden_units_list, execution_time, 'r')\n",
    "plt.xlabel(\"units\")\n",
    "plt.ylabel(\"execution_time\")\n",
    "\n",
    "plt.show()"
   ]
  },
  {
   "cell_type": "code",
   "execution_count": null,
   "metadata": {},
   "outputs": [],
   "source": []
  }
 ],
 "metadata": {
  "kernelspec": {
   "display_name": "Python 3",
   "language": "python",
   "name": "python3"
  },
  "language_info": {
   "codemirror_mode": {
    "name": "ipython",
    "version": 3
   },
   "file_extension": ".py",
   "mimetype": "text/x-python",
   "name": "python",
   "nbconvert_exporter": "python",
   "pygments_lexer": "ipython3",
   "version": "3.5.2"
  }
 },
 "nbformat": 4,
 "nbformat_minor": 2
}
