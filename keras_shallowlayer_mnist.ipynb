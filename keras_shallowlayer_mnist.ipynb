{
 "cells": [
  {
   "cell_type": "code",
   "execution_count": 78,
   "metadata": {},
   "outputs": [
    {
     "name": "stdout",
     "output_type": "stream",
     "text": [
      "data_train-size= (60000, 28, 28)\n",
      "data_test-size= (10000, 28, 28)\n",
      "train_images-size= (60000, 784)\n",
      "test_images-size= (10000, 784)\n",
      "train_images_labels= (60000, 10)\n",
      "test_images_labels= (10000, 10)\n"
     ]
    }
   ],
   "source": [
    "# A study on shallow network for MNIST dataset. The idea is to explore \n",
    "# the effect of the number of hidden neurons on performance.\n",
    "\n",
    "import keras\n",
    "from keras import layers\n",
    "from keras import models\n",
    "import numpy as np\n",
    "import time\n",
    "from matplotlib import pyplot as plt\n",
    "\n",
    "from keras.datasets import mnist\n",
    "from keras.utils import to_categorical\n",
    "\n",
    "# load mnist data \n",
    "(data_train, labels_train), (data_test, labels_test) = mnist.load_data()\n",
    "print(\"data_train-size=\", data_train.shape)\n",
    "print(\"data_test-size=\", data_test.shape)\n",
    "\n",
    "train_images = np.reshape(data_train, (60000,28*28))\n",
    "test_images = np.reshape(data_test, (10000,28*28))\n",
    "train_images = train_images.astype('float32')/255\n",
    "test_images = test_images.astype('float32')/255\n",
    "\n",
    "print(\"train_images-size=\", train_images.shape)\n",
    "print(\"test_images-size=\", test_images.shape)\n",
    "\n",
    "train_image_labels =  to_categorical(labels_train)\n",
    "test_image_labels =  to_categorical(labels_test)\n",
    "\n",
    "print(\"train_images_labels=\", train_image_labels.shape)\n",
    "print(\"test_images_labels=\", test_image_labels.shape)\n"
   ]
  },
  {
   "cell_type": "code",
   "execution_count": 79,
   "metadata": {},
   "outputs": [
    {
     "name": "stdout",
     "output_type": "stream",
     "text": [
      "Epoch 1/5\n",
      "60000/60000 [==============================] - 2s 31us/step - loss: 0.4132 - acc: 0.8862\n",
      "Epoch 2/5\n",
      "60000/60000 [==============================] - 2s 25us/step - loss: 0.2535 - acc: 0.9279\n",
      "Epoch 3/5\n",
      "60000/60000 [==============================] - 2s 25us/step - loss: 0.2229 - acc: 0.9365\n",
      "Epoch 4/5\n",
      "60000/60000 [==============================] - 2s 25us/step - loss: 0.2047 - acc: 0.9413\n",
      "Epoch 5/5\n",
      "60000/60000 [==============================] - 1s 25us/step - loss: 0.1912 - acc: 0.9459\n",
      "10000/10000 [==============================] - 0s 27us/step\n",
      "units= 16 , test_loss= 0.19307421251162887 , test_acc= 0.9461 , average-time= 1.6754400253295898\n",
      "Epoch 1/5\n",
      "60000/60000 [==============================] - 2s 34us/step - loss: 0.3391 - acc: 0.9060\n",
      "Epoch 2/5\n",
      "60000/60000 [==============================] - 2s 26us/step - loss: 0.1900 - acc: 0.9451\n",
      "Epoch 3/5\n",
      "60000/60000 [==============================] - 2s 26us/step - loss: 0.1558 - acc: 0.9558\n",
      "Epoch 4/5\n",
      "60000/60000 [==============================] - 2s 26us/step - loss: 0.1369 - acc: 0.9609\n",
      "Epoch 5/5\n",
      "60000/60000 [==============================] - 2s 26us/step - loss: 0.1243 - acc: 0.9644\n",
      "10000/10000 [==============================] - 0s 28us/step\n",
      "units= 32 , test_loss= 0.13854336147215218 , test_acc= 0.962 , average-time= 1.73471999168396\n",
      "Epoch 1/5\n",
      "60000/60000 [==============================] - 2s 41us/step - loss: 0.2922 - acc: 0.9171\n",
      "Epoch 2/5\n",
      "60000/60000 [==============================] - 2s 36us/step - loss: 0.1500 - acc: 0.9565\n",
      "Epoch 3/5\n",
      "60000/60000 [==============================] - 2s 36us/step - loss: 0.1142 - acc: 0.9666\n",
      "Epoch 4/5\n",
      "60000/60000 [==============================] - 2s 35us/step - loss: 0.0958 - acc: 0.9725\n",
      "Epoch 5/5\n",
      "60000/60000 [==============================] - 2s 35us/step - loss: 0.0834 - acc: 0.9756\n",
      "10000/10000 [==============================] - 0s 31us/step\n",
      "units= 64 , test_loss= 0.09601309700650162 , test_acc= 0.9742 , average-time= 2.277600049972534\n",
      "Epoch 1/5\n",
      "60000/60000 [==============================] - 3s 53us/step - loss: 0.2604 - acc: 0.9248\n",
      "Epoch 2/5\n",
      "60000/60000 [==============================] - 3s 47us/step - loss: 0.1214 - acc: 0.9648\n",
      "Epoch 3/5\n",
      "60000/60000 [==============================] - 3s 47us/step - loss: 0.0912 - acc: 0.9736\n",
      "Epoch 4/5\n",
      "60000/60000 [==============================] - 3s 46us/step - loss: 0.0732 - acc: 0.9787\n",
      "Epoch 5/5\n",
      "60000/60000 [==============================] - 3s 46us/step - loss: 0.0617 - acc: 0.9824\n",
      "10000/10000 [==============================] - 0s 34us/step\n",
      "units= 128 , test_loss= 0.09351621683684644 , test_acc= 0.9754 , average-time= 2.976480007171631\n",
      "Epoch 1/5\n",
      "60000/60000 [==============================] - 4s 64us/step - loss: 0.2257 - acc: 0.9342\n",
      "Epoch 2/5\n",
      "60000/60000 [==============================] - 4s 59us/step - loss: 0.1036 - acc: 0.9703\n",
      "Epoch 3/5\n",
      "60000/60000 [==============================] - 4s 59us/step - loss: 0.0762 - acc: 0.9785\n",
      "Epoch 4/5\n",
      "60000/60000 [==============================] - 3s 58us/step - loss: 0.0606 - acc: 0.9827\n",
      "Epoch 5/5\n",
      "60000/60000 [==============================] - 3s 57us/step - loss: 0.0483 - acc: 0.9865\n",
      "10000/10000 [==============================] - 0s 37us/step\n",
      "units= 256 , test_loss= 0.09067606327910326 , test_acc= 0.9773 , average-time= 3.675360012054443\n",
      "Epoch 1/5\n",
      "60000/60000 [==============================] - 11s 180us/step - loss: 0.2029 - acc: 0.9399\n",
      "Epoch 2/5\n",
      "60000/60000 [==============================] - 10s 174us/step - loss: 0.0891 - acc: 0.9744\n",
      "Epoch 3/5\n",
      "60000/60000 [==============================] - 10s 174us/step - loss: 0.0659 - acc: 0.9814\n",
      "Epoch 4/5\n",
      "60000/60000 [==============================] - 11s 176us/step - loss: 0.0505 - acc: 0.9862\n",
      "Epoch 5/5\n",
      "60000/60000 [==============================] - 10s 174us/step - loss: 0.0407 - acc: 0.9889\n",
      "10000/10000 [==============================] - 0s 48us/step\n",
      "units= 512 , test_loss= 0.0967932629703786 , test_acc= 0.9767 , average-time= 10.664160060882569\n",
      "Epoch 1/5\n",
      "60000/60000 [==============================] - 22s 359us/step - loss: 0.1923 - acc: 0.9430\n",
      "Epoch 2/5\n",
      "60000/60000 [==============================] - 20s 334us/step - loss: 0.0869 - acc: 0.9751\n",
      "Epoch 3/5\n",
      "60000/60000 [==============================] - 20s 335us/step - loss: 0.0657 - acc: 0.9823\n",
      "Epoch 4/5\n",
      "60000/60000 [==============================] - 20s 334us/step - loss: 0.0509 - acc: 0.9870\n",
      "Epoch 5/5\n",
      "60000/60000 [==============================] - 20s 335us/step - loss: 0.0414 - acc: 0.9891\n",
      "10000/10000 [==============================] - 1s 70us/step\n",
      "units= 1024 , test_loss= 0.09209947666053644 , test_acc= 0.9791 , average-time= 20.538960123062132\n",
      "Epoch 1/5\n",
      "60000/60000 [==============================] - 39s 657us/step - loss: 0.1870 - acc: 0.9449\n",
      "Epoch 2/5\n",
      "60000/60000 [==============================] - 38s 639us/step - loss: 0.0917 - acc: 0.9759\n",
      "Epoch 3/5\n",
      "60000/60000 [==============================] - 38s 636us/step - loss: 0.0692 - acc: 0.9820\n",
      "Epoch 4/5\n",
      "60000/60000 [==============================] - 38s 639us/step - loss: 0.0543 - acc: 0.9865\n",
      "Epoch 5/5\n",
      "60000/60000 [==============================] - 39s 653us/step - loss: 0.0464 - acc: 0.9891\n",
      "10000/10000 [==============================] - 1s 108us/step\n",
      "units= 2048 , test_loss= 0.09287985660469648 , test_acc= 0.9815 , average-time= 38.95964026451111\n",
      "Epoch 1/5\n",
      "60000/60000 [==============================] - 79s 1ms/step - loss: 0.1941 - acc: 0.9448\n",
      "Epoch 2/5\n",
      "60000/60000 [==============================] - 78s 1ms/step - loss: 0.1010 - acc: 0.9748\n",
      "Epoch 3/5\n",
      "60000/60000 [==============================] - 78s 1ms/step - loss: 0.0813 - acc: 0.9823\n",
      "Epoch 4/5\n",
      "60000/60000 [==============================] - 78s 1ms/step - loss: 0.0654 - acc: 0.9862\n",
      "Epoch 5/5\n",
      "60000/60000 [==============================] - 79s 1ms/step - loss: 0.0542 - acc: 0.9888\n",
      "10000/10000 [==============================] - 2s 204us/step\n",
      "units= 4096 , test_loss= 0.1342164287251629 , test_acc= 0.978 , average-time= 78.99840049743652\n"
     ]
    }
   ],
   "source": [
    "hidden_units_list = [16, 32, 64, 128, 256, 512, 1024, 2048, 4096]\n",
    "execution_time = []\n",
    "accuracies = []\n",
    "losses = []\n",
    "EPOCHS = 5\n",
    "\n",
    "for units in hidden_units_list:\n",
    "    start_time = time.time()\n",
    "    model = models.Sequential()\n",
    "    model.add(layers.Dense(units, activation = 'relu', input_shape=(784,) ))\n",
    "    model.add(layers.Dense(10, activation = 'softmax'))\n",
    "    model.compile(optimizer='rmsprop', loss='categorical_crossentropy',metrics=['accuracy'])\n",
    "    model.fit(train_images, train_image_labels, epochs=EPOCHS)\n",
    "    test_loss, test_acc = model.evaluate(test_images, test_image_labels)\n",
    "    stop_time = time.time()\n",
    "    average_execution_time = (stop_time - start_time)/EPOCHS\n",
    "    execution_time.append(average_execution_time)\n",
    "    accuracies.append(test_acc)\n",
    "    losses.append(test_loss)\n",
    "    print (\"units=\", units, \", test_loss=\", test_loss, \", test_acc=\", test_acc, \", average-time=\", average_execution_time )        "
   ]
  },
  {
   "cell_type": "code",
   "execution_count": 82,
   "metadata": {},
   "outputs": [
    {
     "data": {
      "image/png": "[encoded data removed]",
      "text/plain": [
       "<Figure size 432x288 with 1 Axes>"
      ]
     },
     "metadata": {},
     "output_type": "display_data"
    },
    {
     "data": {
      "image/png": "[encoded data removed]",
      "text/plain": [
       "<Figure size 432x288 with 1 Axes>"
      ]
     },
     "metadata": {},
     "output_type": "display_data"
    },
    {
     "data": {
      "image/png": "[encoded data removed]",
      "text/plain": [
       "<Figure size 432x288 with 1 Axes>"
      ]
     },
     "metadata": {},
     "output_type": "display_data"
    }
   ],
   "source": [
    "plt.plot(hidden_units_list, accuracies, 'b')\n",
    "plt.xlabel(\"units\")\n",
    "plt.ylabel(\"test_acc\")\n",
    "plt.show()\n",
    "\n",
    "plt.plot(hidden_units_list, losses, 'g')\n",
    "plt.xlabel(\"units\")\n",
    "plt.ylabel(\"loss\")\n",
    "plt.show()\n",
    "\n",
    "plt.plot(hidden_units_list, execution_time, 'r')\n",
    "plt.xlabel(\"units\")\n",
    "plt.ylabel(\"execution_time\")\n",
    "\n",
    "plt.show()"
   ]
  },
  {
   "cell_type": "code",
   "execution_count": null,
   "metadata": {},
   "outputs": [],
   "source": []
  }
 ],
 "metadata": {
  "kernelspec": {
   "display_name": "Python 3",
   "language": "python",
   "name": "python3"
  },
  "language_info": {
   "codemirror_mode": {
    "name": "ipython",
    "version": 3
   },
   "file_extension": ".py",
   "mimetype": "text/x-python",
   "name": "python",
   "nbconvert_exporter": "python",
   "pygments_lexer": "ipython3",
   "version": "3.5.2"
  }
 },
 "nbformat": 4,
 "nbformat_minor": 2
}
