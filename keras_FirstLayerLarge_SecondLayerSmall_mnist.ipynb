{
 "cells": [
  {
   "cell_type": "code",
   "execution_count": 1,
   "metadata": {},
   "outputs": [
    {
     "name": "stderr",
     "output_type": "stream",
     "text": [
      "Using TensorFlow backend.\n"
     ]
    },
    {
     "name": "stdout",
     "output_type": "stream",
     "text": [
      "data_train-size= (60000, 28, 28)\n",
      "data_test-size= (10000, 28, 28)\n",
      "train_images-size= (60000, 784)\n",
      "test_images-size= (10000, 784)\n",
      "train_images_labels= (60000, 10)\n",
      "test_images_labels= (10000, 10)\n"
     ]
    }
   ],
   "source": [
    "# A study on 2-layered network for MNIST dataset. The idea is to explore \n",
    "# First layer (large number of neurons) & Second layer (small number of neurons)\n",
    "\n",
    "import keras\n",
    "from keras import layers\n",
    "from keras import models\n",
    "import numpy as np\n",
    "import time\n",
    "from matplotlib import pyplot as plt\n",
    "\n",
    "from keras.datasets import mnist\n",
    "from keras.utils import to_categorical\n",
    "\n",
    "# load mnist data \n",
    "(data_train, labels_train), (data_test, labels_test) = mnist.load_data()\n",
    "print(\"data_train-size=\", data_train.shape)\n",
    "print(\"data_test-size=\", data_test.shape)\n",
    "\n",
    "train_images = np.reshape(data_train, (60000,28*28))\n",
    "test_images = np.reshape(data_test, (10000,28*28))\n",
    "train_images = train_images.astype('float32')/255\n",
    "test_images = test_images.astype('float32')/255\n",
    "\n",
    "print(\"train_images-size=\", train_images.shape)\n",
    "print(\"test_images-size=\", test_images.shape)\n",
    "\n",
    "train_image_labels =  to_categorical(labels_train)\n",
    "test_image_labels =  to_categorical(labels_test)\n",
    "\n",
    "print(\"train_images_labels=\", train_image_labels.shape)\n",
    "print(\"test_images_labels=\", test_image_labels.shape)"
   ]
  },
  {
   "cell_type": "code",
   "execution_count": 3,
   "metadata": {},
   "outputs": [
    {
     "name": "stdout",
     "output_type": "stream",
     "text": [
      "Epoch 1/5\n",
      "60000/60000 [==============================] - 10s 164us/step - loss: 1.3270 - acc: 0.5363\n",
      "Epoch 2/5\n",
      "60000/60000 [==============================] - 10s 160us/step - loss: 0.9259 - acc: 0.6791\n",
      "Epoch 3/5\n",
      "60000/60000 [==============================] - 10s 160us/step - loss: 0.7357 - acc: 0.7497\n",
      "Epoch 4/5\n",
      "60000/60000 [==============================] - 10s 160us/step - loss: 0.5797 - acc: 0.8331\n",
      "Epoch 5/5\n",
      "60000/60000 [==============================] - 10s 160us/step - loss: 0.4788 - acc: 0.8678\n",
      "10000/10000 [==============================] - 0s 34us/step\n",
      "Num first_hidden_units= 512 Num second_hidden_units= 2 , test_loss= 0.5043222984313965 , test_acc= 0.8799 , average-time= 9.756240081787109\n",
      "Epoch 1/5\n",
      "60000/60000 [==============================] - 21s 355us/step - loss: 0.7864 - acc: 0.7706\n",
      "Epoch 2/5\n",
      "60000/60000 [==============================] - 19s 317us/step - loss: 0.2263 - acc: 0.9540\n",
      "Epoch 3/5\n",
      "60000/60000 [==============================] - 19s 319us/step - loss: 0.1462 - acc: 0.9676\n",
      "Epoch 4/5\n",
      "60000/60000 [==============================] - 19s 319us/step - loss: 0.1123 - acc: 0.9748\n",
      "Epoch 5/5\n",
      "60000/60000 [==============================] - 19s 320us/step - loss: 0.0926 - acc: 0.9795\n",
      "10000/10000 [==============================] - 1s 55us/step\n",
      "Num first_hidden_units= 1024 Num second_hidden_units= 4 , test_loss= 0.1580768777864054 , test_acc= 0.9696 , average-time= 19.709040117263793\n",
      "Epoch 1/5\n",
      "60000/60000 [==============================] - 39s 654us/step - loss: 0.2804 - acc: 0.9184\n",
      "Epoch 2/5\n",
      "60000/60000 [==============================] - 40s 661us/step - loss: 0.1077 - acc: 0.9710\n",
      "Epoch 3/5\n",
      "60000/60000 [==============================] - 39s 649us/step - loss: 0.0807 - acc: 0.9790\n",
      "Epoch 4/5\n",
      "60000/60000 [==============================] - 39s 656us/step - loss: 0.0630 - acc: 0.9842\n",
      "Epoch 5/5\n",
      "60000/60000 [==============================] - 39s 657us/step - loss: 0.0519 - acc: 0.9871\n",
      "10000/10000 [==============================] - 1s 95us/step\n",
      "Num first_hidden_units= 2048 Num second_hidden_units= 8 , test_loss= 0.10766364356767044 , test_acc= 0.9777 , average-time= 39.56460008621216\n",
      "Epoch 1/5\n",
      "60000/60000 [==============================] - 75s 1ms/step - loss: 0.2579 - acc: 0.9222\n",
      "Epoch 2/5\n",
      "60000/60000 [==============================] - 74s 1ms/step - loss: 0.1069 - acc: 0.9722\n",
      "Epoch 3/5\n",
      "60000/60000 [==============================] - 74s 1ms/step - loss: 0.0860 - acc: 0.9790\n",
      "Epoch 4/5\n",
      "60000/60000 [==============================] - 74s 1ms/step - loss: 0.0721 - acc: 0.9828\n",
      "Epoch 5/5\n",
      "60000/60000 [==============================] - 74s 1ms/step - loss: 0.0622 - acc: 0.9860\n",
      "10000/10000 [==============================] - 2s 184us/step\n",
      "Num first_hidden_units= 4096 Num second_hidden_units= 16 , test_loss= 0.12326170150028529 , test_acc= 0.9796 , average-time= 74.68032050132751\n"
     ]
    }
   ],
   "source": [
    "first_hidden_units_list = [512, 1024, 2048, 4096]\n",
    "second_hidden_units_list = [2, 4, 8, 16]\n",
    "\n",
    "execution_time = []\n",
    "accuracies = []\n",
    "losses = []\n",
    "EPOCHS = 5\n",
    "\n",
    "for index in range(4):\n",
    "    start_time = time.time()\n",
    "    model = models.Sequential()\n",
    "    model.add(layers.Dense(first_hidden_units_list[index], activation = 'relu', input_shape=(784,) ))\n",
    "    model.add(layers.Dense(second_hidden_units_list[index], activation = 'relu' ))\n",
    "    model.add(layers.Dense(10, activation = 'softmax'))\n",
    "    model.compile(optimizer='rmsprop', loss='categorical_crossentropy',metrics=['accuracy'])\n",
    "    model.fit(train_images, train_image_labels, epochs=EPOCHS)\n",
    "    test_loss, test_acc = model.evaluate(test_images, test_image_labels)\n",
    "    stop_time = time.time()\n",
    "    average_execution_time = (stop_time - start_time)/EPOCHS\n",
    "    execution_time.append(average_execution_time)\n",
    "    accuracies.append(test_acc)\n",
    "    losses.append(test_loss)\n",
    "    print (\"Num first_hidden_units=\", first_hidden_units_list[index], \n",
    "           \"Num second_hidden_units=\", second_hidden_units_list[index], \n",
    "           \", test_loss=\", test_loss, \", test_acc=\", test_acc, \", average-time=\", average_execution_time )        "
   ]
  },
  {
   "cell_type": "code",
   "execution_count": 5,
   "metadata": {},
   "outputs": [
    {
     "data": {
      "image/png": "[encoded data removed]",
      "text/plain": [
       "<Figure size 432x288 with 1 Axes>"
      ]
     },
     "metadata": {},
     "output_type": "display_data"
    },
    {
     "data": {
      "image/png": "[encoded data removed]",
      "text/plain": [
       "<Figure size 432x288 with 1 Axes>"
      ]
     },
     "metadata": {},
     "output_type": "display_data"
    },
    {
     "data": {
      "image/png": "[encoded data removed]",
      "text/plain": [
       "<Figure size 432x288 with 1 Axes>"
      ]
     },
     "metadata": {},
     "output_type": "display_data"
    }
   ],
   "source": [
    "plt.plot(first_hidden_units_list, accuracies, 'b')\n",
    "plt.xlabel(\"units\")\n",
    "plt.ylabel(\"test_acc\")\n",
    "plt.show()\n",
    "\n",
    "plt.plot(first_hidden_units_list, losses, 'g')\n",
    "plt.xlabel(\"units\")\n",
    "plt.ylabel(\"loss\")\n",
    "plt.show()\n",
    "\n",
    "plt.plot(first_hidden_units_list, execution_time, 'r')\n",
    "plt.xlabel(\"units\")\n",
    "plt.ylabel(\"execution_time\")\n",
    "\n",
    "plt.show()"
   ]
  },
  {
   "cell_type": "code",
   "execution_count": null,
   "metadata": {},
   "outputs": [],
   "source": []
  }
 ],
 "metadata": {
  "kernelspec": {
   "display_name": "Python 3",
   "language": "python",
   "name": "python3"
  },
  "language_info": {
   "codemirror_mode": {
    "name": "ipython",
    "version": 3
   },
   "file_extension": ".py",
   "mimetype": "text/x-python",
   "name": "python",
   "nbconvert_exporter": "python",
   "pygments_lexer": "ipython3",
   "version": "3.5.2"
  }
 },
 "nbformat": 4,
 "nbformat_minor": 2
}
